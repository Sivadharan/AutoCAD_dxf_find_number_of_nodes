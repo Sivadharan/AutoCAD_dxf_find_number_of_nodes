{
 "cells": [
  {
   "cell_type": "code",
   "execution_count": 159,
   "metadata": {},
   "outputs": [
    {
     "name": "stdout",
     "output_type": "stream",
     "text": [
      "Number of nodes in the input AutoCAD dxf file: 147\n"
     ]
    }
   ],
   "source": [
    "# Import the required python libraries\n",
    "import sys\n",
    "import ezdxf\n",
    "import pandas as pd\n",
    "import numpy as np\n",
    "import ezdxf\n",
    "\n",
    "# Load the AutoCAD file\n",
    "AutocadDxfDoc = ezdxf.readfile(r'E:\Trials\Python\AutoCAD_dxf_find_number_of_nodes\AutoCAD_input_file.dxf')\n",
    "\n",
    "# Load the Model Space\n",
    "ModelSpace = AutocadDxfDoc.modelspace()\n",
    "\n",
    "# Load the LINE entity\n",
    "Lines = ModelSpace.query('LINE')\n",
    "\n",
    "# Get all the start and end points of the lines\n",
    "P1List, P2List = [], []\n",
    "for Line in Lines:\n",
    "    P1List.append(Line.dxf.start)\n",
    "    P2List.append(Line.dxf.end)\n",
    "\n",
    "# Load the all the start and end points into Pandas data frame\n",
    "df = pd.concat(([pd.DataFrame(P1List), pd.DataFrame(P2List)]))\n",
    "\n",
    "# Round the x1, y1, z1, x2, y2, z2 with 2 digits.\n",
    "df = np.round(df, 2)\n",
    "\n",
    "# Remove the duplicate points\n",
    "df = df.drop_duplicates()\n",
    "\n",
    "# Print the result: df.shape[0]\n",
    "print (f'Number of nodes in the input AutoCAD dxf file: {df.shape[0]}')"
   ]
  },
  {
   "cell_type": "code",
   "execution_count": null,
   "metadata": {},
   "outputs": [],
   "source": []
  }
 ],
 "metadata": {
  "interpreter": {
   "hash": "b9b265ce808f977c33f14d742b8bec1825a345b6f3cd32dafb65e27d242cbb69"
  },
  "kernelspec": {
   "display_name": "Python 3.8.8 64-bit ('base': conda)",
   "language": "python",
   "name": "python3"
  },
  "language_info": {
   "codemirror_mode": {
    "name": "ipython",
    "version": 3
   },
   "file_extension": ".py",
   "mimetype": "text/x-python",
   "name": "python",
   "nbconvert_exporter": "python",
   "pygments_lexer": "ipython3",
   "version": "3.8.8"
  },
  "orig_nbformat": 4
 },
 "nbformat": 4,
 "nbformat_minor": 2
}
